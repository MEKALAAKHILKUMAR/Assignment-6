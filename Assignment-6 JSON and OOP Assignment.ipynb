{
 "cells": [
  {
   "cell_type": "markdown",
   "id": "1abd6cff",
   "metadata": {},
   "source": [
    "# Create an assignment for File handling of JSON files in Python"
   ]
  },
  {
   "cell_type": "markdown",
   "id": "30c4e86b",
   "metadata": {},
   "source": [
    "# Assignment 1"
   ]
  },
  {
   "cell_type": "code",
   "execution_count": null,
   "id": "18317f57",
   "metadata": {},
   "outputs": [],
   "source": [
    "Create an assignment for File handling of JSON files in Python\n",
    "Assignment 1\n",
    "👉 1. Create a JSON file (employee.json) containing employee information of minimum 5 employees. \n",
    "Each employee information consists of Name, DOB, Height, City, State. Write a python program that reads this information\n",
    "from the JSON file and saves the information into a list of objects of Employee class.\n",
    "Finally print the list of the Employee objects.\n"
   ]
  },
  {
   "cell_type": "code",
   "execution_count": 47,
   "id": "2f298022",
   "metadata": {},
   "outputs": [
    {
     "name": "stdout",
     "output_type": "stream",
     "text": [
      "json file generated\n"
     ]
    }
   ],
   "source": [
    "import json \n",
    "\n",
    "employee={   \n",
    "   \"emp_information\": [\n",
    "    {\n",
    "         \"name\": \"vijay\",\n",
    "           \"DOB\":\"05/07/1999\",\n",
    "          \"height\":\"5.2\",\n",
    "           \"city\":\"itanagar\",\n",
    "         \"state\":\"arunachal pradesh\"\n",
    "     },\n",
    "     { \n",
    "        \"emp_name\": \"pavan\",\n",
    "          \"DOB\":\"10/05/2000\",\n",
    "           \"height\":\"5.5\",\n",
    "           \"city\" :\"amaravathi\",\n",
    "           \"state\" :\"andra pradesh\"\n",
    "     },\n",
    "     {\n",
    "          \"emp_name\": \"rama\",\n",
    "           \"DOB\":\"10/12/1998\",\n",
    "           \"height\":\"5.8\",\n",
    "           \"city\":\"dispur\",\n",
    "           \"state\":\"assam\"\n",
    "     },\n",
    "     {\n",
    "          \"emp_name\": \"riaz\",\n",
    "         \"DOB\":\"11/08/2000\",\n",
    "          \"height\":\"5.7\",\n",
    "         \"city\":\"lucknow\",\n",
    "          \"state\":\"uttarpradesh\"\n",
    "     },\n",
    "     {\n",
    "         \"emp_name\": \"vamshi\",\n",
    "         \"DOB\":\"13/02/2001\",\n",
    "         \"height\":\"5.4\",\n",
    "        \"city\":\"hyderbad\",\n",
    "        \"state\":\"telengana\"\n",
    "     } ,\n",
    " \n",
    "]\n",
    "}\n",
    "with open(\"employee.json\",'w') as f:\n",
    "    json.dump(employee,f,indent=5)\n",
    "    print(\"json file generated\")\n",
    "\n",
    "     "
   ]
  },
  {
   "cell_type": "code",
   "execution_count": 46,
   "id": "8eacdb7c",
   "metadata": {},
   "outputs": [
    {
     "name": "stdout",
     "output_type": "stream",
     "text": [
      "{'emp_information': [{'name': 'vijay', 'DOB': '05/07/1999', 'height': '5.2', 'city': 'itanagar', 'state': 'arunachal pradesh'}, {'emp_name': 'pavan', 'DOB': '10/05/2000', 'height': '5.5', 'city': 'amaravathi', 'state': 'andra pradesh'}, {'emp_name': 'rama', 'DOB': '10/12/1998', 'height': '5.8', 'city': 'dispur', 'state': 'assam'}, {'emp_name': 'riaz', 'DOB': '11/08/2000', 'height': '5.7', 'city': 'lucknow', 'state': 'uttarpradesh'}, {'emp_name': 'vamshi', 'DOB': '13/02/2001', 'height': '5.4', 'city': 'hyderbad', 'state': 'telengana'}]}\n",
      "\n"
     ]
    }
   ],
   "source": [
    "\n",
    "import json\n",
    "with open(\"employee.json\",'r') as f:\n",
    "    x=json.load(f)\n",
    "    print(x)"
   ]
  },
  {
   "cell_type": "code",
   "execution_count": null,
   "id": "dd41d072",
   "metadata": {},
   "outputs": [],
   "source": []
  },
  {
   "cell_type": "code",
   "execution_count": null,
   "id": "1b075415",
   "metadata": {},
   "outputs": [],
   "source": [
    "#👉 2. Create a dictionary of any 7 Indian states and their capitals. Write this into a JSON file."
   ]
  },
  {
   "cell_type": "code",
   "execution_count": 49,
   "id": "984b1d4e",
   "metadata": {},
   "outputs": [
    {
     "name": "stdout",
     "output_type": "stream",
     "text": [
      "Indian states and cities are created in JSON file\n"
     ]
    }
   ],
   "source": [
    "import json\n",
    "\n",
    "indian_states = {\n",
    "    \"Andhra Pradesh\": \"Amaravati\",\n",
    "    \"Arunachal Pradesh\": \"Itanagar\",\n",
    "    \"Assam\": \"Dispur\",\n",
    "    \"Bihar\": \"Patna\",\n",
    "    \"Chhattisgarh\": \"Raipur\",\n",
    "    \"Goa\": \"Panaji\",\n",
    "    \"Gujarat\": \"Gandhinagar\"\n",
    "    }\n",
    "\n",
    "with open(\"indian_states.json\", \"w\") as f:\n",
    "    json.dump(indian_states, f,indent=5)\n",
    "    print(\"Indian states and cities are created in JSON file\")\n"
   ]
  },
  {
   "cell_type": "code",
   "execution_count": null,
   "id": "f24c3a68",
   "metadata": {},
   "outputs": [],
   "source": []
  },
  {
   "cell_type": "markdown",
   "id": "5b0d34a7",
   "metadata": {},
   "source": [
    "# Assignment 2"
   ]
  },
  {
   "cell_type": "code",
   "execution_count": null,
   "id": "f2ed35fc",
   "metadata": {},
   "outputs": [],
   "source": [
    "1. Create a class named ‘Dog’. It should have a constructor which accepts its name, age and coat color. You must perform the following operations:\n",
    "\n",
    "🔴 a. It should have a function ‘description()’ which prints the name and age of the dog.\n",
    "🔴 b. It should have a function ‘get_info()’ which prints the coat color of the dog.\n",
    "🔴 c. Create child classes ‘JackRussellTerrier’ and ‘Bulldog’ which is inherited from the class ‘Dog’. \n",
    "       It should have at least two methods of its own.\n",
    "🔴 d. Create objects and implement the above functionalities."
   ]
  },
  {
   "cell_type": "code",
   "execution_count": 51,
   "id": "c1524c0a",
   "metadata": {},
   "outputs": [
    {
     "name": "stdout",
     "output_type": "stream",
     "text": [
      "Bunny\n",
      "5\n",
      "Brown\n",
      "Charlie\n",
      "2\n",
      "White and orange\n",
      "High\n",
      "13-18 years\n",
      "Maxi\n",
      "8\n",
      "Black\n",
      "short and wide\n",
      "50\n"
     ]
    }
   ],
   "source": [
    "class Dog:\n",
    "    \n",
    "    def __init__(self, name, age, coat_color):\n",
    "        self.name=name\n",
    "        self.age=age\n",
    "        self.coat_color=coat_color\n",
    "        \n",
    "    def description(self):\n",
    "        print(self.name)\n",
    "        print(self.age)\n",
    "        \n",
    "    def get_info(self):\n",
    "        print(self.coat_color)\n",
    "        \n",
    "class JackRussellTerrier(Dog):\n",
    "    \n",
    "    def __init__(self, name, age, coat_color, energy_level, life_span):\n",
    "        super().__init__(name, age, coat_color)\n",
    "        self.energy_level = energy_level\n",
    "        self.life_span = life_span\n",
    "\n",
    "    def get_energy_level(self):\n",
    "        print(self.energy_level)\n",
    "\n",
    "    def get_lifespan(self):\n",
    "        print(self.life_span)\n",
    "    \n",
    "    \n",
    "class Bulldog(Dog):\n",
    "    \n",
    "    def __init__(self, name, age, coat_color, physical_look, height):\n",
    "        super().__init__(name, age, coat_color)\n",
    "        self.physical_look = physical_look\n",
    "        self.height = height\n",
    "\n",
    "    def physical_traits(self):\n",
    "        print(self.physical_look)\n",
    "\n",
    "    def get_height(self):\n",
    "        print(self.height)\n",
    "        \n",
    "        \n",
    "dog = Dog(\"Bunny\", 5, \"Brown\")\n",
    "dog.description()\n",
    "dog.get_info()\n",
    "\n",
    "dog1 = JackRussellTerrier(\"Charlie\", 2, \"White and orange\", \"High\", \"13-18 years\")\n",
    "dog1.description()\n",
    "dog1.get_info()\n",
    "dog1.get_energy_level()\n",
    "dog1.get_lifespan()\n",
    "\n",
    "dog2 = Bulldog(\"Maxi\", 8, \"Black\", \"short and wide\", 50)\n",
    "dog2.description()\n",
    "dog2.get_info()\n",
    "dog2.physical_traits()\n",
    "dog2.get_height()\n",
    "        "
   ]
  },
  {
   "cell_type": "code",
   "execution_count": null,
   "id": "36d5e515",
   "metadata": {},
   "outputs": [],
   "source": []
  }
 ],
 "metadata": {
  "kernelspec": {
   "display_name": "Python 3 (ipykernel)",
   "language": "python",
   "name": "python3"
  },
  "language_info": {
   "codemirror_mode": {
    "name": "ipython",
    "version": 3
   },
   "file_extension": ".py",
   "mimetype": "text/x-python",
   "name": "python",
   "nbconvert_exporter": "python",
   "pygments_lexer": "ipython3",
   "version": "3.9.13"
  }
 },
 "nbformat": 4,
 "nbformat_minor": 5
}
